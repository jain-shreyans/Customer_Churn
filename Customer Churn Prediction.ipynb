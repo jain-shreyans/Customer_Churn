{
 "cells": [
  {
   "cell_type": "markdown",
   "id": "2a78157b",
   "metadata": {},
   "source": [
    "<h1><center>Customer Churn Modeling </center></h1>"
   ]
  },
  {
   "cell_type": "markdown",
   "id": "363cca6f",
   "metadata": {},
   "source": [
    "***"
   ]
  },
  {
   "cell_type": "markdown",
   "id": "d11f6fc4",
   "metadata": {},
   "source": [
    "# TABLE OF CONTENTS\n"
   ]
  },
  {
   "cell_type": "markdown",
   "id": "79f1f78b",
   "metadata": {},
   "source": [
    "+ Introduction\n",
    "+ Objective\n",
    "+ Problem Statement\n",
    "+ Approach\n",
    "+ EDA, Model & Results\n",
    "+ Conclusion\n",
    "+ References"
   ]
  },
  {
   "cell_type": "markdown",
   "id": "d2e40640",
   "metadata": {},
   "source": [
    "<hr>"
   ]
  },
  {
   "cell_type": "markdown",
   "id": "40427712",
   "metadata": {},
   "source": [
    "### Introduction\n",
    "\n",
    "A market has two key Parties\n",
    "+ Buyer\n",
    "+ Seller\n",
    "\n",
    "Often the sellers have a profit motive and buyers an aim to maximize utility.\n",
    "\n",
    "+ In midst of this cycle  many of the buyers change their habbits, switch to different products, due to pricing change, income or other factors. Thus for a business owner (seller) it is cruical to know whether a customer wil stay loyal in terms of buying or not. This is other terms is known as **customer churn**. Wherein a customer stops purchasing from the the particular company / organization. \n",
    "\n"
   ]
  },
  {
   "cell_type": "markdown",
   "id": "861a6e7e",
   "metadata": {},
   "source": [
    "<hr>"
   ]
  },
  {
   "cell_type": "markdown",
   "id": "2d028177",
   "metadata": {},
   "source": [
    "### Objectives\n",
    "\n",
    "Predict the customers who are going to churn soon with resonable accuracy. \n",
    "- Utlimately helping in making business decisions\n",
    "\n"
   ]
  },
  {
   "cell_type": "markdown",
   "id": "58abf4d7",
   "metadata": {},
   "source": [
    "<hr>"
   ]
  },
  {
   "cell_type": "markdown",
   "id": "e29de6c9",
   "metadata": {},
   "source": [
    "### Problem Definition\n",
    "\n",
    "Financial institutions have clients those who close accounts or switch to different institutions.\n",
    "This impacts the revenue model of the institution.\n",
    "Thus from a business point of view, it is cruical to predict whether a customer will churn or not. \n",
    "\n",
    "In this context a customer having closed all their active accounts with the bank is said to have churned.\n",
    "\n",
    "**\" NOTE : \"** Churn can mean something else as well basedd on the scenario. Eg: customer not trasacting for more than a year can be treated as churned. \n",
    "\n",
    "#### PROBLEM : Predict customers who are going to churn soon"
   ]
  },
  {
   "cell_type": "markdown",
   "id": "033f0aa1",
   "metadata": {},
   "source": [
    "<hr>"
   ]
  },
  {
   "cell_type": "markdown",
   "id": "2b65af12",
   "metadata": {},
   "source": [
    "### Approach\n",
    "This is an extension to the Problem Defnintion. You have to mention the process/appraoch that you have followed in order to reach out the above problem defintion."
   ]
  },
  {
   "cell_type": "markdown",
   "id": "eecfff77",
   "metadata": {},
   "source": [
    "<hr>"
   ]
  },
  {
   "cell_type": "code",
   "execution_count": 410,
   "id": "a21ab580",
   "metadata": {},
   "outputs": [],
   "source": [
    "import pandas as pd\n",
    "import numpy as np\n",
    "import matplotlib.pyplot as plt\n",
    "import seaborn as sns\n",
    "from sklearn.preprocessing import LabelEncoder\n",
    "from sklearn.linear_model import LogisticRegression\n",
    "from sklearn.tree import DecisionTreeClassifier\n",
    "from sklearn.model_selection import train_test_split\n",
    "from sklearn.metrics import confusion_matrix, classification_report \n",
    "\n",
    "# Ignore all warnings\n",
    "import warnings\n",
    "warnings.filterwarnings('ignore')\n",
    "warnings.filterwarnings(action='ignore', category=DeprecationWarning)\n",
    "pd.set_option('display.max_columns', None)\n",
    "pd.set_option('display.max_rows', None)"
   ]
  },
  {
   "cell_type": "code",
   "execution_count": 411,
   "id": "55b0f527",
   "metadata": {},
   "outputs": [
    {
     "data": {
      "text/html": [
       "<div>\n",
       "<style scoped>\n",
       "    .dataframe tbody tr th:only-of-type {\n",
       "        vertical-align: middle;\n",
       "    }\n",
       "\n",
       "    .dataframe tbody tr th {\n",
       "        vertical-align: top;\n",
       "    }\n",
       "\n",
       "    .dataframe thead th {\n",
       "        text-align: right;\n",
       "    }\n",
       "</style>\n",
       "<table border=\"1\" class=\"dataframe\">\n",
       "  <thead>\n",
       "    <tr style=\"text-align: right;\">\n",
       "      <th></th>\n",
       "      <th>RowNumber</th>\n",
       "      <th>CustomerId</th>\n",
       "      <th>CreditScore</th>\n",
       "      <th>Geography</th>\n",
       "      <th>Gender</th>\n",
       "      <th>Age</th>\n",
       "      <th>Tenure</th>\n",
       "      <th>Balance</th>\n",
       "      <th>NumOfProducts</th>\n",
       "      <th>HasCrCard</th>\n",
       "      <th>IsActiveMember</th>\n",
       "      <th>EstimatedSalary</th>\n",
       "      <th>Exited</th>\n",
       "    </tr>\n",
       "  </thead>\n",
       "  <tbody>\n",
       "    <tr>\n",
       "      <th>0</th>\n",
       "      <td>1</td>\n",
       "      <td>15634602</td>\n",
       "      <td>619</td>\n",
       "      <td>France</td>\n",
       "      <td>Female</td>\n",
       "      <td>42</td>\n",
       "      <td>2</td>\n",
       "      <td>0.00</td>\n",
       "      <td>1</td>\n",
       "      <td>1</td>\n",
       "      <td>1</td>\n",
       "      <td>101348.88</td>\n",
       "      <td>1</td>\n",
       "    </tr>\n",
       "    <tr>\n",
       "      <th>1</th>\n",
       "      <td>2</td>\n",
       "      <td>15647311</td>\n",
       "      <td>608</td>\n",
       "      <td>Spain</td>\n",
       "      <td>Female</td>\n",
       "      <td>41</td>\n",
       "      <td>1</td>\n",
       "      <td>83807.86</td>\n",
       "      <td>1</td>\n",
       "      <td>0</td>\n",
       "      <td>1</td>\n",
       "      <td>112542.58</td>\n",
       "      <td>0</td>\n",
       "    </tr>\n",
       "    <tr>\n",
       "      <th>2</th>\n",
       "      <td>3</td>\n",
       "      <td>15619304</td>\n",
       "      <td>502</td>\n",
       "      <td>France</td>\n",
       "      <td>Female</td>\n",
       "      <td>42</td>\n",
       "      <td>8</td>\n",
       "      <td>159660.80</td>\n",
       "      <td>3</td>\n",
       "      <td>1</td>\n",
       "      <td>0</td>\n",
       "      <td>113931.57</td>\n",
       "      <td>1</td>\n",
       "    </tr>\n",
       "    <tr>\n",
       "      <th>3</th>\n",
       "      <td>4</td>\n",
       "      <td>15701354</td>\n",
       "      <td>699</td>\n",
       "      <td>France</td>\n",
       "      <td>Female</td>\n",
       "      <td>39</td>\n",
       "      <td>1</td>\n",
       "      <td>0.00</td>\n",
       "      <td>2</td>\n",
       "      <td>0</td>\n",
       "      <td>0</td>\n",
       "      <td>93826.63</td>\n",
       "      <td>0</td>\n",
       "    </tr>\n",
       "    <tr>\n",
       "      <th>4</th>\n",
       "      <td>5</td>\n",
       "      <td>15737888</td>\n",
       "      <td>850</td>\n",
       "      <td>Spain</td>\n",
       "      <td>Female</td>\n",
       "      <td>43</td>\n",
       "      <td>2</td>\n",
       "      <td>125510.82</td>\n",
       "      <td>1</td>\n",
       "      <td>1</td>\n",
       "      <td>1</td>\n",
       "      <td>79084.10</td>\n",
       "      <td>0</td>\n",
       "    </tr>\n",
       "    <tr>\n",
       "      <th>5</th>\n",
       "      <td>6</td>\n",
       "      <td>15574012</td>\n",
       "      <td>645</td>\n",
       "      <td>Spain</td>\n",
       "      <td>Male</td>\n",
       "      <td>44</td>\n",
       "      <td>8</td>\n",
       "      <td>113755.78</td>\n",
       "      <td>2</td>\n",
       "      <td>1</td>\n",
       "      <td>0</td>\n",
       "      <td>149756.71</td>\n",
       "      <td>1</td>\n",
       "    </tr>\n",
       "    <tr>\n",
       "      <th>6</th>\n",
       "      <td>7</td>\n",
       "      <td>15592531</td>\n",
       "      <td>822</td>\n",
       "      <td>France</td>\n",
       "      <td>Male</td>\n",
       "      <td>50</td>\n",
       "      <td>7</td>\n",
       "      <td>0.00</td>\n",
       "      <td>2</td>\n",
       "      <td>1</td>\n",
       "      <td>1</td>\n",
       "      <td>10062.80</td>\n",
       "      <td>0</td>\n",
       "    </tr>\n",
       "    <tr>\n",
       "      <th>7</th>\n",
       "      <td>8</td>\n",
       "      <td>15656148</td>\n",
       "      <td>376</td>\n",
       "      <td>Germany</td>\n",
       "      <td>Female</td>\n",
       "      <td>29</td>\n",
       "      <td>4</td>\n",
       "      <td>115046.74</td>\n",
       "      <td>4</td>\n",
       "      <td>1</td>\n",
       "      <td>0</td>\n",
       "      <td>119346.88</td>\n",
       "      <td>1</td>\n",
       "    </tr>\n",
       "    <tr>\n",
       "      <th>8</th>\n",
       "      <td>9</td>\n",
       "      <td>15792365</td>\n",
       "      <td>501</td>\n",
       "      <td>France</td>\n",
       "      <td>Male</td>\n",
       "      <td>44</td>\n",
       "      <td>4</td>\n",
       "      <td>142051.07</td>\n",
       "      <td>2</td>\n",
       "      <td>0</td>\n",
       "      <td>1</td>\n",
       "      <td>74940.50</td>\n",
       "      <td>0</td>\n",
       "    </tr>\n",
       "    <tr>\n",
       "      <th>9</th>\n",
       "      <td>10</td>\n",
       "      <td>15592389</td>\n",
       "      <td>684</td>\n",
       "      <td>France</td>\n",
       "      <td>Male</td>\n",
       "      <td>27</td>\n",
       "      <td>2</td>\n",
       "      <td>134603.88</td>\n",
       "      <td>1</td>\n",
       "      <td>1</td>\n",
       "      <td>1</td>\n",
       "      <td>71725.73</td>\n",
       "      <td>0</td>\n",
       "    </tr>\n",
       "    <tr>\n",
       "      <th>10</th>\n",
       "      <td>11</td>\n",
       "      <td>15767821</td>\n",
       "      <td>528</td>\n",
       "      <td>France</td>\n",
       "      <td>Male</td>\n",
       "      <td>31</td>\n",
       "      <td>6</td>\n",
       "      <td>102016.72</td>\n",
       "      <td>2</td>\n",
       "      <td>0</td>\n",
       "      <td>0</td>\n",
       "      <td>80181.12</td>\n",
       "      <td>0</td>\n",
       "    </tr>\n",
       "    <tr>\n",
       "      <th>11</th>\n",
       "      <td>12</td>\n",
       "      <td>15737173</td>\n",
       "      <td>497</td>\n",
       "      <td>Spain</td>\n",
       "      <td>Male</td>\n",
       "      <td>24</td>\n",
       "      <td>3</td>\n",
       "      <td>0.00</td>\n",
       "      <td>2</td>\n",
       "      <td>1</td>\n",
       "      <td>0</td>\n",
       "      <td>76390.01</td>\n",
       "      <td>0</td>\n",
       "    </tr>\n",
       "    <tr>\n",
       "      <th>12</th>\n",
       "      <td>13</td>\n",
       "      <td>15632264</td>\n",
       "      <td>476</td>\n",
       "      <td>France</td>\n",
       "      <td>Female</td>\n",
       "      <td>34</td>\n",
       "      <td>10</td>\n",
       "      <td>0.00</td>\n",
       "      <td>2</td>\n",
       "      <td>1</td>\n",
       "      <td>0</td>\n",
       "      <td>26260.98</td>\n",
       "      <td>0</td>\n",
       "    </tr>\n",
       "    <tr>\n",
       "      <th>13</th>\n",
       "      <td>14</td>\n",
       "      <td>15691483</td>\n",
       "      <td>549</td>\n",
       "      <td>France</td>\n",
       "      <td>Female</td>\n",
       "      <td>25</td>\n",
       "      <td>5</td>\n",
       "      <td>0.00</td>\n",
       "      <td>2</td>\n",
       "      <td>0</td>\n",
       "      <td>0</td>\n",
       "      <td>190857.79</td>\n",
       "      <td>0</td>\n",
       "    </tr>\n",
       "    <tr>\n",
       "      <th>14</th>\n",
       "      <td>15</td>\n",
       "      <td>15600882</td>\n",
       "      <td>635</td>\n",
       "      <td>Spain</td>\n",
       "      <td>Female</td>\n",
       "      <td>35</td>\n",
       "      <td>7</td>\n",
       "      <td>0.00</td>\n",
       "      <td>2</td>\n",
       "      <td>1</td>\n",
       "      <td>1</td>\n",
       "      <td>65951.65</td>\n",
       "      <td>0</td>\n",
       "    </tr>\n",
       "  </tbody>\n",
       "</table>\n",
       "</div>"
      ],
      "text/plain": [
       "    RowNumber  CustomerId  CreditScore Geography  Gender  Age  Tenure  \\\n",
       "0           1    15634602          619    France  Female   42       2   \n",
       "1           2    15647311          608     Spain  Female   41       1   \n",
       "2           3    15619304          502    France  Female   42       8   \n",
       "3           4    15701354          699    France  Female   39       1   \n",
       "4           5    15737888          850     Spain  Female   43       2   \n",
       "5           6    15574012          645     Spain    Male   44       8   \n",
       "6           7    15592531          822    France    Male   50       7   \n",
       "7           8    15656148          376   Germany  Female   29       4   \n",
       "8           9    15792365          501    France    Male   44       4   \n",
       "9          10    15592389          684    France    Male   27       2   \n",
       "10         11    15767821          528    France    Male   31       6   \n",
       "11         12    15737173          497     Spain    Male   24       3   \n",
       "12         13    15632264          476    France  Female   34      10   \n",
       "13         14    15691483          549    France  Female   25       5   \n",
       "14         15    15600882          635     Spain  Female   35       7   \n",
       "\n",
       "      Balance  NumOfProducts  HasCrCard  IsActiveMember  EstimatedSalary  \\\n",
       "0        0.00              1          1               1        101348.88   \n",
       "1    83807.86              1          0               1        112542.58   \n",
       "2   159660.80              3          1               0        113931.57   \n",
       "3        0.00              2          0               0         93826.63   \n",
       "4   125510.82              1          1               1         79084.10   \n",
       "5   113755.78              2          1               0        149756.71   \n",
       "6        0.00              2          1               1         10062.80   \n",
       "7   115046.74              4          1               0        119346.88   \n",
       "8   142051.07              2          0               1         74940.50   \n",
       "9   134603.88              1          1               1         71725.73   \n",
       "10  102016.72              2          0               0         80181.12   \n",
       "11       0.00              2          1               0         76390.01   \n",
       "12       0.00              2          1               0         26260.98   \n",
       "13       0.00              2          0               0        190857.79   \n",
       "14       0.00              2          1               1         65951.65   \n",
       "\n",
       "    Exited  \n",
       "0        1  \n",
       "1        0  \n",
       "2        1  \n",
       "3        0  \n",
       "4        0  \n",
       "5        1  \n",
       "6        0  \n",
       "7        1  \n",
       "8        0  \n",
       "9        0  \n",
       "10       0  \n",
       "11       0  \n",
       "12       0  \n",
       "13       0  \n",
       "14       0  "
      ]
     },
     "execution_count": 411,
     "metadata": {},
     "output_type": "execute_result"
    }
   ],
   "source": [
    "# Reading the dataset\n",
    "df = pd.read_csv(\"D:\\Machine_Learning\\customer_churn\\churn.csv\")\n",
    "df.head(15) "
   ]
  },
  {
   "cell_type": "code",
   "execution_count": 412,
   "id": "92ebb951",
   "metadata": {},
   "outputs": [
    {
     "data": {
      "text/plain": [
       "(10000, 13)"
      ]
     },
     "execution_count": 412,
     "metadata": {},
     "output_type": "execute_result"
    }
   ],
   "source": [
    "df.shape"
   ]
  },
  {
   "cell_type": "markdown",
   "id": "a8e99b33",
   "metadata": {},
   "source": [
    "Ten Thousand rows and 14 columns"
   ]
  },
  {
   "cell_type": "code",
   "execution_count": 413,
   "id": "34a64fb9",
   "metadata": {},
   "outputs": [
    {
     "data": {
      "text/html": [
       "<div>\n",
       "<style scoped>\n",
       "    .dataframe tbody tr th:only-of-type {\n",
       "        vertical-align: middle;\n",
       "    }\n",
       "\n",
       "    .dataframe tbody tr th {\n",
       "        vertical-align: top;\n",
       "    }\n",
       "\n",
       "    .dataframe thead th {\n",
       "        text-align: right;\n",
       "    }\n",
       "</style>\n",
       "<table border=\"1\" class=\"dataframe\">\n",
       "  <thead>\n",
       "    <tr style=\"text-align: right;\">\n",
       "      <th></th>\n",
       "      <th>RowNumber</th>\n",
       "      <th>CustomerId</th>\n",
       "      <th>CreditScore</th>\n",
       "      <th>Age</th>\n",
       "      <th>Tenure</th>\n",
       "      <th>Balance</th>\n",
       "      <th>NumOfProducts</th>\n",
       "      <th>HasCrCard</th>\n",
       "      <th>IsActiveMember</th>\n",
       "      <th>EstimatedSalary</th>\n",
       "      <th>Exited</th>\n",
       "    </tr>\n",
       "  </thead>\n",
       "  <tbody>\n",
       "    <tr>\n",
       "      <th>count</th>\n",
       "      <td>10000.00000</td>\n",
       "      <td>1.000000e+04</td>\n",
       "      <td>10000.000000</td>\n",
       "      <td>10000.000000</td>\n",
       "      <td>10000.000000</td>\n",
       "      <td>10000.000000</td>\n",
       "      <td>10000.000000</td>\n",
       "      <td>10000.00000</td>\n",
       "      <td>10000.000000</td>\n",
       "      <td>10000.000000</td>\n",
       "      <td>10000.000000</td>\n",
       "    </tr>\n",
       "    <tr>\n",
       "      <th>mean</th>\n",
       "      <td>5000.50000</td>\n",
       "      <td>1.569094e+07</td>\n",
       "      <td>650.528800</td>\n",
       "      <td>38.921800</td>\n",
       "      <td>5.012800</td>\n",
       "      <td>76485.889288</td>\n",
       "      <td>1.530200</td>\n",
       "      <td>0.70550</td>\n",
       "      <td>0.515100</td>\n",
       "      <td>100090.239881</td>\n",
       "      <td>0.203700</td>\n",
       "    </tr>\n",
       "    <tr>\n",
       "      <th>std</th>\n",
       "      <td>2886.89568</td>\n",
       "      <td>7.193619e+04</td>\n",
       "      <td>96.653299</td>\n",
       "      <td>10.487806</td>\n",
       "      <td>2.892174</td>\n",
       "      <td>62397.405202</td>\n",
       "      <td>0.581654</td>\n",
       "      <td>0.45584</td>\n",
       "      <td>0.499797</td>\n",
       "      <td>57510.492818</td>\n",
       "      <td>0.402769</td>\n",
       "    </tr>\n",
       "    <tr>\n",
       "      <th>min</th>\n",
       "      <td>1.00000</td>\n",
       "      <td>1.556570e+07</td>\n",
       "      <td>350.000000</td>\n",
       "      <td>18.000000</td>\n",
       "      <td>0.000000</td>\n",
       "      <td>0.000000</td>\n",
       "      <td>1.000000</td>\n",
       "      <td>0.00000</td>\n",
       "      <td>0.000000</td>\n",
       "      <td>11.580000</td>\n",
       "      <td>0.000000</td>\n",
       "    </tr>\n",
       "    <tr>\n",
       "      <th>25%</th>\n",
       "      <td>2500.75000</td>\n",
       "      <td>1.562853e+07</td>\n",
       "      <td>584.000000</td>\n",
       "      <td>32.000000</td>\n",
       "      <td>3.000000</td>\n",
       "      <td>0.000000</td>\n",
       "      <td>1.000000</td>\n",
       "      <td>0.00000</td>\n",
       "      <td>0.000000</td>\n",
       "      <td>51002.110000</td>\n",
       "      <td>0.000000</td>\n",
       "    </tr>\n",
       "    <tr>\n",
       "      <th>50%</th>\n",
       "      <td>5000.50000</td>\n",
       "      <td>1.569074e+07</td>\n",
       "      <td>652.000000</td>\n",
       "      <td>37.000000</td>\n",
       "      <td>5.000000</td>\n",
       "      <td>97198.540000</td>\n",
       "      <td>1.000000</td>\n",
       "      <td>1.00000</td>\n",
       "      <td>1.000000</td>\n",
       "      <td>100193.915000</td>\n",
       "      <td>0.000000</td>\n",
       "    </tr>\n",
       "    <tr>\n",
       "      <th>75%</th>\n",
       "      <td>7500.25000</td>\n",
       "      <td>1.575323e+07</td>\n",
       "      <td>718.000000</td>\n",
       "      <td>44.000000</td>\n",
       "      <td>7.000000</td>\n",
       "      <td>127644.240000</td>\n",
       "      <td>2.000000</td>\n",
       "      <td>1.00000</td>\n",
       "      <td>1.000000</td>\n",
       "      <td>149388.247500</td>\n",
       "      <td>0.000000</td>\n",
       "    </tr>\n",
       "    <tr>\n",
       "      <th>max</th>\n",
       "      <td>10000.00000</td>\n",
       "      <td>1.581569e+07</td>\n",
       "      <td>850.000000</td>\n",
       "      <td>92.000000</td>\n",
       "      <td>10.000000</td>\n",
       "      <td>250898.090000</td>\n",
       "      <td>4.000000</td>\n",
       "      <td>1.00000</td>\n",
       "      <td>1.000000</td>\n",
       "      <td>199992.480000</td>\n",
       "      <td>1.000000</td>\n",
       "    </tr>\n",
       "  </tbody>\n",
       "</table>\n",
       "</div>"
      ],
      "text/plain": [
       "         RowNumber    CustomerId   CreditScore           Age        Tenure  \\\n",
       "count  10000.00000  1.000000e+04  10000.000000  10000.000000  10000.000000   \n",
       "mean    5000.50000  1.569094e+07    650.528800     38.921800      5.012800   \n",
       "std     2886.89568  7.193619e+04     96.653299     10.487806      2.892174   \n",
       "min        1.00000  1.556570e+07    350.000000     18.000000      0.000000   \n",
       "25%     2500.75000  1.562853e+07    584.000000     32.000000      3.000000   \n",
       "50%     5000.50000  1.569074e+07    652.000000     37.000000      5.000000   \n",
       "75%     7500.25000  1.575323e+07    718.000000     44.000000      7.000000   \n",
       "max    10000.00000  1.581569e+07    850.000000     92.000000     10.000000   \n",
       "\n",
       "             Balance  NumOfProducts    HasCrCard  IsActiveMember  \\\n",
       "count   10000.000000   10000.000000  10000.00000    10000.000000   \n",
       "mean    76485.889288       1.530200      0.70550        0.515100   \n",
       "std     62397.405202       0.581654      0.45584        0.499797   \n",
       "min         0.000000       1.000000      0.00000        0.000000   \n",
       "25%         0.000000       1.000000      0.00000        0.000000   \n",
       "50%     97198.540000       1.000000      1.00000        1.000000   \n",
       "75%    127644.240000       2.000000      1.00000        1.000000   \n",
       "max    250898.090000       4.000000      1.00000        1.000000   \n",
       "\n",
       "       EstimatedSalary        Exited  \n",
       "count     10000.000000  10000.000000  \n",
       "mean     100090.239881      0.203700  \n",
       "std       57510.492818      0.402769  \n",
       "min          11.580000      0.000000  \n",
       "25%       51002.110000      0.000000  \n",
       "50%      100193.915000      0.000000  \n",
       "75%      149388.247500      0.000000  \n",
       "max      199992.480000      1.000000  "
      ]
     },
     "execution_count": 413,
     "metadata": {},
     "output_type": "execute_result"
    }
   ],
   "source": [
    "df_numeric = df._get_numeric_data()\n",
    "df_numeric.describe()"
   ]
  },
  {
   "cell_type": "code",
   "execution_count": 414,
   "id": "049470ae",
   "metadata": {},
   "outputs": [
    {
     "data": {
      "text/html": [
       "<div>\n",
       "<style scoped>\n",
       "    .dataframe tbody tr th:only-of-type {\n",
       "        vertical-align: middle;\n",
       "    }\n",
       "\n",
       "    .dataframe tbody tr th {\n",
       "        vertical-align: top;\n",
       "    }\n",
       "\n",
       "    .dataframe thead th {\n",
       "        text-align: right;\n",
       "    }\n",
       "</style>\n",
       "<table border=\"1\" class=\"dataframe\">\n",
       "  <thead>\n",
       "    <tr style=\"text-align: right;\">\n",
       "      <th></th>\n",
       "      <th>Geography</th>\n",
       "      <th>Gender</th>\n",
       "    </tr>\n",
       "  </thead>\n",
       "  <tbody>\n",
       "    <tr>\n",
       "      <th>count</th>\n",
       "      <td>10000</td>\n",
       "      <td>10000</td>\n",
       "    </tr>\n",
       "    <tr>\n",
       "      <th>unique</th>\n",
       "      <td>3</td>\n",
       "      <td>2</td>\n",
       "    </tr>\n",
       "    <tr>\n",
       "      <th>top</th>\n",
       "      <td>France</td>\n",
       "      <td>Male</td>\n",
       "    </tr>\n",
       "    <tr>\n",
       "      <th>freq</th>\n",
       "      <td>5014</td>\n",
       "      <td>5457</td>\n",
       "    </tr>\n",
       "  </tbody>\n",
       "</table>\n",
       "</div>"
      ],
      "text/plain": [
       "       Geography Gender\n",
       "count      10000  10000\n",
       "unique         3      2\n",
       "top       France   Male\n",
       "freq        5014   5457"
      ]
     },
     "execution_count": 414,
     "metadata": {},
     "output_type": "execute_result"
    }
   ],
   "source": [
    "df.describe(include = ['O']) # Describes categorical columns"
   ]
  },
  {
   "cell_type": "markdown",
   "id": "7b5ce17b",
   "metadata": {},
   "source": [
    "### EDA"
   ]
  },
  {
   "cell_type": "code",
   "execution_count": 415,
   "id": "38e3c5a1",
   "metadata": {},
   "outputs": [
    {
     "data": {
      "text/plain": [
       "10000"
      ]
     },
     "execution_count": 415,
     "metadata": {},
     "output_type": "execute_result"
    }
   ],
   "source": [
    "# unique customers \n",
    "df.CustomerId.nunique()"
   ]
  },
  {
   "cell_type": "code",
   "execution_count": 416,
   "id": "e664aa44",
   "metadata": {},
   "outputs": [
    {
     "data": {
      "text/plain": [
       "0    7963\n",
       "1    2037\n",
       "Name: Exited, dtype: int64"
      ]
     },
     "execution_count": 416,
     "metadata": {},
     "output_type": "execute_result"
    }
   ],
   "source": [
    "df[\"Exited\"].value_counts()\n",
    "# Proportion of churned and not churned is high, which might affect the training model as data is imbalanced. "
   ]
  },
  {
   "cell_type": "code",
   "execution_count": 417,
   "id": "56199119",
   "metadata": {},
   "outputs": [
    {
     "data": {
      "text/plain": [
       "<AxesSubplot:ylabel='CreditScore'>"
      ]
     },
     "execution_count": 417,
     "metadata": {},
     "output_type": "execute_result"
    },
    {
     "data": {
      "image/png": "[encoded data removed]",
      "text/plain": [
       "<Figure size 432x288 with 1 Axes>"
      ]
     },
     "metadata": {},
     "output_type": "display_data"
    }
   ],
   "source": [
    "sns.boxplot(y=df['CreditScore'])"
   ]
  },
  {
   "cell_type": "code",
   "execution_count": 418,
   "id": "6a8579d0",
   "metadata": {},
   "outputs": [
    {
     "data": {
      "text/html": [
       "<div>\n",
       "<style scoped>\n",
       "    .dataframe tbody tr th:only-of-type {\n",
       "        vertical-align: middle;\n",
       "    }\n",
       "\n",
       "    .dataframe tbody tr th {\n",
       "        vertical-align: top;\n",
       "    }\n",
       "\n",
       "    .dataframe thead th {\n",
       "        text-align: right;\n",
       "    }\n",
       "</style>\n",
       "<table border=\"1\" class=\"dataframe\">\n",
       "  <thead>\n",
       "    <tr style=\"text-align: right;\">\n",
       "      <th></th>\n",
       "      <th>RowNumber</th>\n",
       "      <th>Exited</th>\n",
       "    </tr>\n",
       "    <tr>\n",
       "      <th>Geography</th>\n",
       "      <th></th>\n",
       "      <th></th>\n",
       "    </tr>\n",
       "  </thead>\n",
       "  <tbody>\n",
       "    <tr>\n",
       "      <th>France</th>\n",
       "      <td>5014</td>\n",
       "      <td>0.161548</td>\n",
       "    </tr>\n",
       "    <tr>\n",
       "      <th>Germany</th>\n",
       "      <td>2509</td>\n",
       "      <td>0.324432</td>\n",
       "    </tr>\n",
       "    <tr>\n",
       "      <th>Spain</th>\n",
       "      <td>2477</td>\n",
       "      <td>0.166734</td>\n",
       "    </tr>\n",
       "  </tbody>\n",
       "</table>\n",
       "</div>"
      ],
      "text/plain": [
       "           RowNumber    Exited\n",
       "Geography                     \n",
       "France          5014  0.161548\n",
       "Germany         2509  0.324432\n",
       "Spain           2477  0.166734"
      ]
     },
     "execution_count": 418,
     "metadata": {},
     "output_type": "execute_result"
    }
   ],
   "source": [
    "df.groupby(['Geography']).agg({'RowNumber':'count', 'Exited':'mean'})"
   ]
  },
  {
   "cell_type": "code",
   "execution_count": 419,
   "id": "5c9e41f2",
   "metadata": {},
   "outputs": [],
   "source": [
    "# Frace has the most customers who have churned, but the average number of churned customer in Germany is higher."
   ]
  },
  {
   "cell_type": "code",
   "execution_count": 420,
   "id": "cd07bcf4",
   "metadata": {},
   "outputs": [
    {
     "data": {
      "text/plain": [
       "<AxesSubplot:xlabel='Gender', ylabel='count'>"
      ]
     },
     "execution_count": 420,
     "metadata": {},
     "output_type": "execute_result"
    },
    {
     "data": {
      "image/png": "[encoded data removed]",
      "text/plain": [
       "<Figure size 432x288 with 1 Axes>"
      ]
     },
     "metadata": {},
     "output_type": "display_data"
    }
   ],
   "source": [
    "sns.countplot(x= 'Gender', data = df)"
   ]
  },
  {
   "cell_type": "code",
   "execution_count": 421,
   "id": "c13ebd07",
   "metadata": {},
   "outputs": [
    {
     "data": {
      "text/plain": [
       "<AxesSubplot:ylabel='Age'>"
      ]
     },
     "execution_count": 421,
     "metadata": {},
     "output_type": "execute_result"
    },
    {
     "data": {
      "image/png": "[encoded data removed]",
      "text/plain": [
       "<Figure size 432x288 with 1 Axes>"
      ]
     },
     "metadata": {},
     "output_type": "display_data"
    }
   ],
   "source": [
    "sns.boxplot(y=df['Age'])"
   ]
  },
  {
   "cell_type": "code",
   "execution_count": 422,
   "id": "a78048de",
   "metadata": {},
   "outputs": [
    {
     "data": {
      "text/plain": [
       "<AxesSubplot:ylabel='Tenure'>"
      ]
     },
     "execution_count": 422,
     "metadata": {},
     "output_type": "execute_result"
    },
    {
     "data": {
      "image/png": "[encoded data removed]",
      "text/plain": [
       "<Figure size 432x288 with 1 Axes>"
      ]
     },
     "metadata": {},
     "output_type": "display_data"
    }
   ],
   "source": [
    "sns.boxplot(y=df['Tenure'])"
   ]
  },
  {
   "cell_type": "code",
   "execution_count": 423,
   "id": "85bcb3c3",
   "metadata": {},
   "outputs": [
    {
     "data": {
      "text/plain": [
       "<AxesSubplot:ylabel='Balance'>"
      ]
     },
     "execution_count": 423,
     "metadata": {},
     "output_type": "execute_result"
    },
    {
     "data": {
      "image/png": "[encoded data removed]",
      "text/plain": [
       "<Figure size 432x288 with 1 Axes>"
      ]
     },
     "metadata": {},
     "output_type": "display_data"
    }
   ],
   "source": [
    "sns.boxplot(y=df['Balance'])"
   ]
  },
  {
   "cell_type": "code",
   "execution_count": 424,
   "id": "51618428",
   "metadata": {},
   "outputs": [
    {
     "data": {
      "text/plain": [
       "<AxesSubplot:xlabel='NumOfProducts', ylabel='count'>"
      ]
     },
     "execution_count": 424,
     "metadata": {},
     "output_type": "execute_result"
    },
    {
     "data": {
      "image/png": "[encoded data removed]",
      "text/plain": [
       "<Figure size 432x288 with 1 Axes>"
      ]
     },
     "metadata": {},
     "output_type": "display_data"
    }
   ],
   "source": [
    "sns.countplot(x = 'NumOfProducts', data = df)"
   ]
  },
  {
   "cell_type": "code",
   "execution_count": 425,
   "id": "119d8c9c",
   "metadata": {},
   "outputs": [],
   "source": [
    "#Most of the customers have 1 or 2 products. 80/20 Rule."
   ]
  },
  {
   "cell_type": "code",
   "execution_count": 426,
   "id": "ebe49d1b",
   "metadata": {},
   "outputs": [
    {
     "data": {
      "text/html": [
       "<div>\n",
       "<style scoped>\n",
       "    .dataframe tbody tr th:only-of-type {\n",
       "        vertical-align: middle;\n",
       "    }\n",
       "\n",
       "    .dataframe tbody tr th {\n",
       "        vertical-align: top;\n",
       "    }\n",
       "\n",
       "    .dataframe thead th {\n",
       "        text-align: right;\n",
       "    }\n",
       "</style>\n",
       "<table border=\"1\" class=\"dataframe\">\n",
       "  <thead>\n",
       "    <tr style=\"text-align: right;\">\n",
       "      <th></th>\n",
       "      <th>RowNumber</th>\n",
       "      <th>Exited</th>\n",
       "    </tr>\n",
       "    <tr>\n",
       "      <th>NumOfProducts</th>\n",
       "      <th></th>\n",
       "      <th></th>\n",
       "    </tr>\n",
       "  </thead>\n",
       "  <tbody>\n",
       "    <tr>\n",
       "      <th>1</th>\n",
       "      <td>5084</td>\n",
       "      <td>0.277144</td>\n",
       "    </tr>\n",
       "    <tr>\n",
       "      <th>2</th>\n",
       "      <td>4590</td>\n",
       "      <td>0.075817</td>\n",
       "    </tr>\n",
       "    <tr>\n",
       "      <th>3</th>\n",
       "      <td>266</td>\n",
       "      <td>0.827068</td>\n",
       "    </tr>\n",
       "    <tr>\n",
       "      <th>4</th>\n",
       "      <td>60</td>\n",
       "      <td>1.000000</td>\n",
       "    </tr>\n",
       "  </tbody>\n",
       "</table>\n",
       "</div>"
      ],
      "text/plain": [
       "               RowNumber    Exited\n",
       "NumOfProducts                     \n",
       "1                   5084  0.277144\n",
       "2                   4590  0.075817\n",
       "3                    266  0.827068\n",
       "4                     60  1.000000"
      ]
     },
     "execution_count": 426,
     "metadata": {},
     "output_type": "execute_result"
    }
   ],
   "source": [
    "df.groupby(['NumOfProducts']).agg({'RowNumber':'count', 'Exited':'mean'}) "
   ]
  },
  {
   "cell_type": "code",
   "execution_count": 427,
   "id": "72c9fb35",
   "metadata": {},
   "outputs": [],
   "source": [
    "# People who bought 4 products always churn, moreover ones who have 3 products exit 83% of the time"
   ]
  },
  {
   "cell_type": "code",
   "execution_count": 428,
   "id": "da780882",
   "metadata": {},
   "outputs": [
    {
     "data": {
      "text/plain": [
       "<AxesSubplot:xlabel='HasCrCard', ylabel='count'>"
      ]
     },
     "execution_count": 428,
     "metadata": {},
     "output_type": "execute_result"
    },
    {
     "data": {
      "image/png": "[encoded data removed]",
      "text/plain": [
       "<Figure size 432x288 with 1 Axes>"
      ]
     },
     "metadata": {},
     "output_type": "display_data"
    }
   ],
   "source": [
    "sns.countplot(x = 'HasCrCard', data = df)"
   ]
  },
  {
   "cell_type": "code",
   "execution_count": 429,
   "id": "67b29ce7",
   "metadata": {},
   "outputs": [
    {
     "data": {
      "text/plain": [
       "<AxesSubplot:xlabel='IsActiveMember', ylabel='count'>"
      ]
     },
     "execution_count": 429,
     "metadata": {},
     "output_type": "execute_result"
    },
    {
     "data": {
      "image/png": "[encoded data removed]",
      "text/plain": [
       "<Figure size 432x288 with 1 Axes>"
      ]
     },
     "metadata": {},
     "output_type": "display_data"
    }
   ],
   "source": [
    "sns.countplot(x = 'IsActiveMember', data = df)"
   ]
  },
  {
   "cell_type": "code",
   "execution_count": 430,
   "id": "bf06e689",
   "metadata": {},
   "outputs": [
    {
     "data": {
      "text/plain": [
       "<AxesSubplot:ylabel='EstimatedSalary'>"
      ]
     },
     "execution_count": 430,
     "metadata": {},
     "output_type": "execute_result"
    },
    {
     "data": {
      "image/png": "[encoded data removed]",
      "text/plain": [
       "<Figure size 432x288 with 1 Axes>"
      ]
     },
     "metadata": {},
     "output_type": "display_data"
    }
   ],
   "source": [
    "sns.boxplot(y=df['EstimatedSalary'])"
   ]
  },
  {
   "cell_type": "code",
   "execution_count": 431,
   "id": "4d0caee6",
   "metadata": {},
   "outputs": [],
   "source": [
    "# Dropping columns that are useful for modeling\n",
    "df1 = df.drop(columns = ['RowNumber', 'CustomerId'])"
   ]
  },
  {
   "cell_type": "code",
   "execution_count": 432,
   "id": "cc78e1a5",
   "metadata": {},
   "outputs": [],
   "source": [
    "df1_numeric = df1._get_numeric_data()"
   ]
  },
  {
   "cell_type": "code",
   "execution_count": 433,
   "id": "4f1b81cd",
   "metadata": {},
   "outputs": [
    {
     "data": {
      "text/plain": [
       "<AxesSubplot:>"
      ]
     },
     "execution_count": 433,
     "metadata": {},
     "output_type": "execute_result"
    },
    {
     "data": {
      "image/png": "[encoded data removed]",
      "text/plain": [
       "<Figure size 1080x576 with 2 Axes>"
      ]
     },
     "metadata": {},
     "output_type": "display_data"
    }
   ],
   "source": [
    "corr = df1_numeric.corr()\n",
    "plt.figure(figsize = (15,8))\n",
    "sns.heatmap(corr, cmap = 'Blues', annot = True)"
   ]
  },
  {
   "cell_type": "markdown",
   "id": "920e0fee",
   "metadata": {},
   "source": [
    "### Label Enconding for categorical Data"
   ]
  },
  {
   "cell_type": "code",
   "execution_count": 434,
   "id": "87779839",
   "metadata": {},
   "outputs": [],
   "source": [
    "# Separating out different columns into various categories as defined above\n",
    "target_var = ['Exited']\n",
    "\n",
    "# numerical columns\n",
    "num_feats = ['CreditScore', 'Age', 'Tenure', 'Balance', 'NumOfProducts', 'EstimatedSalary']\n",
    "\n",
    "# categorical columns\n",
    "cat_feats = [ 'Geography', 'Gender', 'HasCrCard', 'IsActiveMember']"
   ]
  },
  {
   "cell_type": "code",
   "execution_count": 435,
   "id": "f59965dd",
   "metadata": {},
   "outputs": [],
   "source": [
    "# Tenure, NumOfProducts has order value.\n",
    "# HasCrCard, IsActiveNumber, Gender is binary categorical"
   ]
  },
  {
   "cell_type": "code",
   "execution_count": 436,
   "id": "e3e84838",
   "metadata": {},
   "outputs": [],
   "source": [
    "# label encoding With  the sklearn method\n",
    "le = LabelEncoder()\n",
    "\n",
    "# Label encoding of categorical variable\n",
    "df1['Gender'] = le.fit_transform(df1['Gender'])\n",
    "df1['Geography'] = le.fit_transform(df1['Geography'])\n"
   ]
  },
  {
   "cell_type": "code",
   "execution_count": 437,
   "id": "762ee46b",
   "metadata": {},
   "outputs": [
    {
     "data": {
      "text/plain": [
       "bal_per_product      0\n",
       "bal_by_est_salary    0\n",
       "tenure_age_ratio     0\n",
       "dtype: int64"
      ]
     },
     "execution_count": 437,
     "metadata": {},
     "output_type": "execute_result"
    }
   ],
   "source": [
    "df1['bal_per_product'] = df1.Balance/(df1.NumOfProducts)\n",
    "df1['bal_by_est_salary'] = df1.Balance/(df1.EstimatedSalary)\n",
    "df1['tenure_age_ratio'] = df1.Tenure/(df1.Age)\n",
    "new_cols = ['bal_per_product', 'bal_by_est_salary', 'tenure_age_ratio']\n",
    "# Ensuring that the new column doesn't have any missing values\n",
    "df1[new_cols].isnull().sum()"
   ]
  },
  {
   "cell_type": "code",
   "execution_count": 438,
   "id": "12a0f828",
   "metadata": {},
   "outputs": [
    {
     "data": {
      "text/html": [
       "<div>\n",
       "<style scoped>\n",
       "    .dataframe tbody tr th:only-of-type {\n",
       "        vertical-align: middle;\n",
       "    }\n",
       "\n",
       "    .dataframe tbody tr th {\n",
       "        vertical-align: top;\n",
       "    }\n",
       "\n",
       "    .dataframe thead th {\n",
       "        text-align: right;\n",
       "    }\n",
       "</style>\n",
       "<table border=\"1\" class=\"dataframe\">\n",
       "  <thead>\n",
       "    <tr style=\"text-align: right;\">\n",
       "      <th></th>\n",
       "      <th>CreditScore</th>\n",
       "      <th>Geography</th>\n",
       "      <th>Gender</th>\n",
       "      <th>Age</th>\n",
       "      <th>Tenure</th>\n",
       "      <th>Balance</th>\n",
       "      <th>NumOfProducts</th>\n",
       "      <th>HasCrCard</th>\n",
       "      <th>IsActiveMember</th>\n",
       "      <th>EstimatedSalary</th>\n",
       "      <th>Exited</th>\n",
       "      <th>bal_per_product</th>\n",
       "      <th>bal_by_est_salary</th>\n",
       "      <th>tenure_age_ratio</th>\n",
       "    </tr>\n",
       "  </thead>\n",
       "  <tbody>\n",
       "    <tr>\n",
       "      <th>0</th>\n",
       "      <td>619</td>\n",
       "      <td>0</td>\n",
       "      <td>0</td>\n",
       "      <td>42</td>\n",
       "      <td>2</td>\n",
       "      <td>0.00</td>\n",
       "      <td>1</td>\n",
       "      <td>1</td>\n",
       "      <td>1</td>\n",
       "      <td>101348.88</td>\n",
       "      <td>1</td>\n",
       "      <td>0.000000</td>\n",
       "      <td>0.000000</td>\n",
       "      <td>0.047619</td>\n",
       "    </tr>\n",
       "    <tr>\n",
       "      <th>1</th>\n",
       "      <td>608</td>\n",
       "      <td>2</td>\n",
       "      <td>0</td>\n",
       "      <td>41</td>\n",
       "      <td>1</td>\n",
       "      <td>83807.86</td>\n",
       "      <td>1</td>\n",
       "      <td>0</td>\n",
       "      <td>1</td>\n",
       "      <td>112542.58</td>\n",
       "      <td>0</td>\n",
       "      <td>83807.860000</td>\n",
       "      <td>0.744677</td>\n",
       "      <td>0.024390</td>\n",
       "    </tr>\n",
       "    <tr>\n",
       "      <th>2</th>\n",
       "      <td>502</td>\n",
       "      <td>0</td>\n",
       "      <td>0</td>\n",
       "      <td>42</td>\n",
       "      <td>8</td>\n",
       "      <td>159660.80</td>\n",
       "      <td>3</td>\n",
       "      <td>1</td>\n",
       "      <td>0</td>\n",
       "      <td>113931.57</td>\n",
       "      <td>1</td>\n",
       "      <td>53220.266667</td>\n",
       "      <td>1.401375</td>\n",
       "      <td>0.190476</td>\n",
       "    </tr>\n",
       "    <tr>\n",
       "      <th>3</th>\n",
       "      <td>699</td>\n",
       "      <td>0</td>\n",
       "      <td>0</td>\n",
       "      <td>39</td>\n",
       "      <td>1</td>\n",
       "      <td>0.00</td>\n",
       "      <td>2</td>\n",
       "      <td>0</td>\n",
       "      <td>0</td>\n",
       "      <td>93826.63</td>\n",
       "      <td>0</td>\n",
       "      <td>0.000000</td>\n",
       "      <td>0.000000</td>\n",
       "      <td>0.025641</td>\n",
       "    </tr>\n",
       "    <tr>\n",
       "      <th>4</th>\n",
       "      <td>850</td>\n",
       "      <td>2</td>\n",
       "      <td>0</td>\n",
       "      <td>43</td>\n",
       "      <td>2</td>\n",
       "      <td>125510.82</td>\n",
       "      <td>1</td>\n",
       "      <td>1</td>\n",
       "      <td>1</td>\n",
       "      <td>79084.10</td>\n",
       "      <td>0</td>\n",
       "      <td>125510.820000</td>\n",
       "      <td>1.587055</td>\n",
       "      <td>0.046512</td>\n",
       "    </tr>\n",
       "  </tbody>\n",
       "</table>\n",
       "</div>"
      ],
      "text/plain": [
       "   CreditScore  Geography  Gender  Age  Tenure    Balance  NumOfProducts  \\\n",
       "0          619          0       0   42       2       0.00              1   \n",
       "1          608          2       0   41       1   83807.86              1   \n",
       "2          502          0       0   42       8  159660.80              3   \n",
       "3          699          0       0   39       1       0.00              2   \n",
       "4          850          2       0   43       2  125510.82              1   \n",
       "\n",
       "   HasCrCard  IsActiveMember  EstimatedSalary  Exited  bal_per_product  \\\n",
       "0          1               1        101348.88       1         0.000000   \n",
       "1          0               1        112542.58       0     83807.860000   \n",
       "2          1               0        113931.57       1     53220.266667   \n",
       "3          0               0         93826.63       0         0.000000   \n",
       "4          1               1         79084.10       0    125510.820000   \n",
       "\n",
       "   bal_by_est_salary  tenure_age_ratio  \n",
       "0           0.000000          0.047619  \n",
       "1           0.744677          0.024390  \n",
       "2           1.401375          0.190476  \n",
       "3           0.000000          0.025641  \n",
       "4           1.587055          0.046512  "
      ]
     },
     "execution_count": 438,
     "metadata": {},
     "output_type": "execute_result"
    }
   ],
   "source": [
    "df1.head()"
   ]
  },
  {
   "cell_type": "code",
   "execution_count": 439,
   "id": "6051cb88",
   "metadata": {},
   "outputs": [
    {
     "data": {
      "text/html": [
       "<div>\n",
       "<style scoped>\n",
       "    .dataframe tbody tr th:only-of-type {\n",
       "        vertical-align: middle;\n",
       "    }\n",
       "\n",
       "    .dataframe tbody tr th {\n",
       "        vertical-align: top;\n",
       "    }\n",
       "\n",
       "    .dataframe thead th {\n",
       "        text-align: right;\n",
       "    }\n",
       "</style>\n",
       "<table border=\"1\" class=\"dataframe\">\n",
       "  <thead>\n",
       "    <tr style=\"text-align: right;\">\n",
       "      <th></th>\n",
       "      <th>bal_per_product</th>\n",
       "      <th>bal_by_est_salary</th>\n",
       "      <th>tenure_age_ratio</th>\n",
       "      <th>Age</th>\n",
       "      <th>Exited</th>\n",
       "    </tr>\n",
       "  </thead>\n",
       "  <tbody>\n",
       "    <tr>\n",
       "      <th>0</th>\n",
       "      <td>0.000000</td>\n",
       "      <td>0.000000</td>\n",
       "      <td>0.047619</td>\n",
       "      <td>42</td>\n",
       "      <td>1</td>\n",
       "    </tr>\n",
       "    <tr>\n",
       "      <th>1</th>\n",
       "      <td>83807.860000</td>\n",
       "      <td>0.744677</td>\n",
       "      <td>0.024390</td>\n",
       "      <td>41</td>\n",
       "      <td>0</td>\n",
       "    </tr>\n",
       "    <tr>\n",
       "      <th>2</th>\n",
       "      <td>53220.266667</td>\n",
       "      <td>1.401375</td>\n",
       "      <td>0.190476</td>\n",
       "      <td>42</td>\n",
       "      <td>1</td>\n",
       "    </tr>\n",
       "    <tr>\n",
       "      <th>3</th>\n",
       "      <td>0.000000</td>\n",
       "      <td>0.000000</td>\n",
       "      <td>0.025641</td>\n",
       "      <td>39</td>\n",
       "      <td>0</td>\n",
       "    </tr>\n",
       "    <tr>\n",
       "      <th>4</th>\n",
       "      <td>125510.820000</td>\n",
       "      <td>1.587055</td>\n",
       "      <td>0.046512</td>\n",
       "      <td>43</td>\n",
       "      <td>0</td>\n",
       "    </tr>\n",
       "  </tbody>\n",
       "</table>\n",
       "</div>"
      ],
      "text/plain": [
       "   bal_per_product  bal_by_est_salary  tenure_age_ratio  Age  Exited\n",
       "0         0.000000           0.000000          0.047619   42       1\n",
       "1     83807.860000           0.744677          0.024390   41       0\n",
       "2     53220.266667           1.401375          0.190476   42       1\n",
       "3         0.000000           0.000000          0.025641   39       0\n",
       "4    125510.820000           1.587055          0.046512   43       0"
      ]
     },
     "execution_count": 439,
     "metadata": {},
     "output_type": "execute_result"
    }
   ],
   "source": [
    "df2 = df1[new_cols]\n",
    "df2['Age'] = df1['Age']\n",
    "df2['Exited'] = df1['Exited']\n",
    "df2.head()"
   ]
  },
  {
   "cell_type": "code",
   "execution_count": 440,
   "id": "c551a65a",
   "metadata": {},
   "outputs": [
    {
     "data": {
      "text/plain": [
       "<AxesSubplot:>"
      ]
     },
     "execution_count": 440,
     "metadata": {},
     "output_type": "execute_result"
    },
    {
     "data": {
      "image/png": "[encoded data removed]",
      "text/plain": [
       "<Figure size 432x288 with 2 Axes>"
      ]
     },
     "metadata": {},
     "output_type": "display_data"
    }
   ],
   "source": [
    "sns.heatmap(df2.corr(), annot=True)"
   ]
  },
  {
   "cell_type": "markdown",
   "id": "d06f9d65",
   "metadata": {},
   "source": [
    "### Split dataset into train and test"
   ]
  },
  {
   "cell_type": "code",
   "execution_count": 441,
   "id": "4e0d3020",
   "metadata": {},
   "outputs": [],
   "source": [
    "X = df1.drop(['Exited'], axis = 1) # axis for column\n",
    "y = df['Exited']"
   ]
  },
  {
   "cell_type": "code",
   "execution_count": 442,
   "id": "ddeaddee",
   "metadata": {},
   "outputs": [],
   "source": [
    "X_train, X_test, y_train, y_test = train_test_split(X,y, test_size = 0.2, random_state = 42)"
   ]
  },
  {
   "cell_type": "markdown",
   "id": "fb901d47",
   "metadata": {},
   "source": [
    "## ALGORITHM / MODEL"
   ]
  },
  {
   "cell_type": "markdown",
   "id": "2a93d497",
   "metadata": {},
   "source": [
    "### DECISION TREE"
   ]
  },
  {
   "cell_type": "code",
   "execution_count": 485,
   "id": "6b024c89",
   "metadata": {},
   "outputs": [
    {
     "name": "stdout",
     "output_type": "stream",
     "text": [
      "Decision Tree Classification Score:  0.857\n"
     ]
    }
   ],
   "source": [
    "dec_tree = DecisionTreeClassifier(criterion='gini',max_depth =5, random_state = 42)\n",
    "dec_tree.fit(X_train,y_train)\n",
    "print(\"Decision Tree Classification Score: \",dec_tree.score(X_test,y_test))"
   ]
  },
  {
   "cell_type": "code",
   "execution_count": 489,
   "id": "730d3ad3",
   "metadata": {},
   "outputs": [
    {
     "data": {
      "text/plain": [
       "5"
      ]
     },
     "execution_count": 489,
     "metadata": {},
     "output_type": "execute_result"
    }
   ],
   "source": [
    "dec_tree.tree_.max_depth"
   ]
  },
  {
   "cell_type": "markdown",
   "id": "498ecf59",
   "metadata": {},
   "source": [
    "### Hyperparameter = max depth and criterion  to measure impurity (gini, entropy) "
   ]
  },
  {
   "cell_type": "code",
   "execution_count": 483,
   "id": "902f5eba",
   "metadata": {},
   "outputs": [
    {
     "name": "stdout",
     "output_type": "stream",
     "text": [
      "Tree score with depth 1 = 0.8035\n",
      "Tree score with depth 2 = 0.844\n",
      "Tree score with depth 3 = 0.8485\n",
      "Tree score with depth 4 = 0.8545\n",
      "Tree score with depth 5 = 0.857\n",
      "Tree score with depth 6 = 0.8525\n",
      "Tree score with depth 7 = 0.8505\n",
      "Tree score with depth 8 = 0.851\n",
      "Tree score with depth 9 = 0.8485\n",
      "Tree score with depth 10 = 0.8455\n",
      "Tree score with depth 11 = 0.833\n",
      "Tree score with depth 12 = 0.828\n",
      "Tree score with depth 13 = 0.8215\n",
      "Tree score with depth 14 = 0.8085\n",
      "Tree score with depth 15 = 0.7995\n",
      "Tree score with depth 16 = 0.7995\n",
      "Tree score with depth 17 = 0.7915\n",
      "Tree score with depth 18 = 0.797\n",
      "Tree score with depth 19 = 0.792\n",
      "Tree score with depth 20 = 0.791\n",
      "Tree score with depth 21 = 0.789\n",
      "Tree score with depth 22 = 0.788\n",
      "Tree score with depth 23 = 0.79\n",
      "Tree score with depth 24 = 0.7905\n"
     ]
    }
   ],
   "source": [
    "for i in range(1,25):\n",
    "    dec_tree = DecisionTreeClassifier(criterion='gini',max_depth =i ,random_state = 42)\n",
    "    dec_tree.fit(X_train,y_train)\n",
    "    print(\"Tree score with depth\",i,\"=\",dec_tree.score(X_test,y_test) )"
   ]
  },
  {
   "cell_type": "code",
   "execution_count": 446,
   "id": "75f72bff",
   "metadata": {},
   "outputs": [],
   "source": [
    "#tree.export_graphviz(dec_tree,out_file=\"tree.dot\",class_names=[\"Did not churn\", \"churned\"], filled = True)"
   ]
  },
  {
   "cell_type": "code",
   "execution_count": 486,
   "id": "341e93b0",
   "metadata": {},
   "outputs": [
    {
     "data": {
      "text/plain": [
       "<AxesSubplot:>"
      ]
     },
     "execution_count": 486,
     "metadata": {},
     "output_type": "execute_result"
    },
    {
     "data": {
      "image/png": "[encoded data removed]",
      "text/plain": [
       "<Figure size 432x288 with 2 Axes>"
      ]
     },
     "metadata": {},
     "output_type": "display_data"
    }
   ],
   "source": [
    "y_pred = dec_tree.predict(X_test)\n",
    "conf_mat = confusion_matrix(y_test,y_pred)\n",
    "sns.heatmap(conf_mat,annot=True,fmt=\".0f\")\n"
   ]
  },
  {
   "cell_type": "code",
   "execution_count": 487,
   "id": "f0cf9996",
   "metadata": {
    "scrolled": true
   },
   "outputs": [
    {
     "name": "stdout",
     "output_type": "stream",
     "text": [
      "              precision    recall  f1-score   support\n",
      "\n",
      "           0       0.87      0.97      0.92      1607\n",
      "           1       0.76      0.39      0.52       393\n",
      "\n",
      "    accuracy                           0.86      2000\n",
      "   macro avg       0.82      0.68      0.72      2000\n",
      "weighted avg       0.85      0.86      0.84      2000\n",
      "\n"
     ]
    }
   ],
   "source": [
    "print(classification_report(y_test, y_pred))"
   ]
  },
  {
   "cell_type": "code",
   "execution_count": 488,
   "id": "513e8f33",
   "metadata": {},
   "outputs": [],
   "source": [
    "# Accuracy is 86%"
   ]
  },
  {
   "cell_type": "markdown",
   "id": "da65b814",
   "metadata": {},
   "source": [
    "### LOGISTIC REGRESSION"
   ]
  },
  {
   "cell_type": "code",
   "execution_count": 450,
   "id": "4ef80ea3",
   "metadata": {},
   "outputs": [],
   "source": [
    "X1_train, X1_test, y1_train, y1_test = train_test_split(X,y, test_size = 0.2, random_state = 42)"
   ]
  },
  {
   "cell_type": "code",
   "execution_count": 451,
   "id": "268f0973",
   "metadata": {},
   "outputs": [
    {
     "data": {
      "text/plain": [
       "LogisticRegression(random_state=42)"
      ]
     },
     "execution_count": 451,
     "metadata": {},
     "output_type": "execute_result"
    }
   ],
   "source": [
    "lr = LogisticRegression(random_state = 42)\n",
    "lr.fit(X1_train, y1_train)\n"
   ]
  },
  {
   "cell_type": "code",
   "execution_count": 452,
   "id": "bec013ac",
   "metadata": {},
   "outputs": [
    {
     "data": {
      "text/plain": [
       "<AxesSubplot:>"
      ]
     },
     "execution_count": 452,
     "metadata": {},
     "output_type": "execute_result"
    },
    {
     "data": {
      "image/png": "[encoded data removed]",
      "text/plain": [
       "<Figure size 432x288 with 2 Axes>"
      ]
     },
     "metadata": {},
     "output_type": "display_data"
    }
   ],
   "source": [
    "y1_pred = lr.predict(X1_test)\n",
    "conf_mat = confusion_matrix(y1_test,y1_pred)\n",
    "sns.heatmap(conf_mat,annot=True,fmt=\".0f\")\n"
   ]
  },
  {
   "cell_type": "code",
   "execution_count": 453,
   "id": "83c69223",
   "metadata": {},
   "outputs": [
    {
     "name": "stdout",
     "output_type": "stream",
     "text": [
      "              precision    recall  f1-score   support\n",
      "\n",
      "           0       0.81      0.98      0.89      1607\n",
      "           1       0.47      0.08      0.14       393\n",
      "\n",
      "    accuracy                           0.80      2000\n",
      "   macro avg       0.64      0.53      0.51      2000\n",
      "weighted avg       0.75      0.80      0.74      2000\n",
      "\n"
     ]
    }
   ],
   "source": [
    "print(classification_report(y_test, y1_pred))"
   ]
  },
  {
   "cell_type": "code",
   "execution_count": 454,
   "id": "d797f848",
   "metadata": {},
   "outputs": [],
   "source": [
    "# Accuracy is 80%"
   ]
  },
  {
   "cell_type": "markdown",
   "id": "c67ebe4f",
   "metadata": {},
   "source": [
    "### Hyperparameter = penalty for wrong predictions"
   ]
  },
  {
   "cell_type": "code",
   "execution_count": 455,
   "id": "8b153fcf",
   "metadata": {},
   "outputs": [
    {
     "name": "stdout",
     "output_type": "stream",
     "text": [
      "l2 penalty has a mean accuracy of  0.7912\n",
      "none penalty has a mean accuracy of  0.7912\n"
     ]
    }
   ],
   "source": [
    "# only these two are used as lbfgs solver supports only 'l2' or 'none' penalties\n",
    "penalty = ['l2','none']\n",
    "for i in penalty:\n",
    "    lr = LogisticRegression(random_state = 42, penalty = i)\n",
    "    lr.fit(X1_train, y1_train)\n",
    "    print(i,\"penalty has a mean accuracy of \", lr.score(X, y))\n"
   ]
  },
  {
   "cell_type": "code",
   "execution_count": 456,
   "id": "3b9150af",
   "metadata": {},
   "outputs": [],
   "source": [
    "# Seems to have no difference."
   ]
  },
  {
   "cell_type": "markdown",
   "id": "401fe2d0",
   "metadata": {},
   "source": [
    "## Better amongst Decision tree and Logistic Regression to predict churn is DECISION TREE "
   ]
  },
  {
   "cell_type": "code",
   "execution_count": 457,
   "id": "6c2afbd5",
   "metadata": {},
   "outputs": [],
   "source": [
    "# take user input "
   ]
  },
  {
   "cell_type": "code",
   "execution_count": 458,
   "id": "17c54871",
   "metadata": {},
   "outputs": [
    {
     "data": {
      "text/plain": [
       "Index(['CreditScore', 'Geography', 'Gender', 'Age', 'Tenure', 'Balance',\n",
       "       'NumOfProducts', 'HasCrCard', 'IsActiveMember', 'EstimatedSalary',\n",
       "       'Exited', 'bal_per_product', 'bal_by_est_salary', 'tenure_age_ratio'],\n",
       "      dtype='object')"
      ]
     },
     "execution_count": 458,
     "metadata": {},
     "output_type": "execute_result"
    }
   ],
   "source": [
    "df1.columns"
   ]
  },
  {
   "cell_type": "code",
   "execution_count": 461,
   "id": "782ed8c6",
   "metadata": {},
   "outputs": [
    {
     "name": "stdout",
     "output_type": "stream",
     "text": [
      "Enter your Credit Score:650\n",
      "Enter your Country ():1\n",
      "Gender:0\n",
      "Enter your Age:38\n",
      "Enter Tenure:1\n",
      "Enter your Balance:76500\n",
      "Enter your Num Of Products:2\n",
      "Enter your HasCrCard:0\n",
      "Enter your IsActiveMember:1\n",
      "Enter your EstimatedSalary:100000\n"
     ]
    }
   ],
   "source": [
    "l = []\n",
    "l.append(input(\"Enter your Credit Score:\"))\n",
    "l.append(input(\"Enter your Country ():\"))\n",
    "l.append(input(\"Gender:\"))\n",
    "age = input(\"Enter your Age:\")\n",
    "l.append(age)\n",
    "t = input(\"Enter Tenure:\")\n",
    "l.append(t)\n",
    "b = input(\"Enter your Balance:\")\n",
    "l.append(b)\n",
    "n = input(\"Enter your Num Of Products:\")\n",
    "l.append(n)\n",
    "l.append(input(\"Enter your HasCrCard:\"))\n",
    "l.append(input(\"Enter your IsActiveMember:\"))\n",
    "es = input(\"Enter your EstimatedSalary:\")\n",
    "l.append(int(es))\n",
    "l.append(int(b)/int(n))\n",
    "l.append(int(b)/int(es))\n",
    "l.append(int(t)/int(age))"
   ]
  },
  {
   "cell_type": "code",
   "execution_count": 462,
   "id": "ca871776",
   "metadata": {},
   "outputs": [
    {
     "name": "stdout",
     "output_type": "stream",
     "text": [
      " Customer will not churn with an accuracy of 86%\n"
     ]
    }
   ],
   "source": [
    "output = dec_tree.predict([l])\n",
    "if output ==0:\n",
    "    print(\" Customer will not churn with an accuracy of 86%\")\n",
    "else: \n",
    "    print(\"Customer will churn with an accuracy of 86%\")"
   ]
  },
  {
   "cell_type": "markdown",
   "id": "da8ed2e6",
   "metadata": {},
   "source": [
    "<hr/>"
   ]
  },
  {
   "cell_type": "markdown",
   "id": "06ff354b",
   "metadata": {},
   "source": [
    "### References\n",
    "\n",
    "1. https://www.thepythoncode.com/article/customer-churn-detection-using-sklearn-in-python#intro\n",
    "1. https://towardsdatascience.com/choosing-the-right-encoding-method-label-vs-onehot-encoder-a4434493149b\n",
    "1.https://scikit-learn.org/\n",
    "\n"
   ]
  }
 ],
 "metadata": {
  "kernelspec": {
   "display_name": "Python 3 (ipykernel)",
   "language": "python",
   "name": "python3"
  },
  "language_info": {
   "codemirror_mode": {
    "name": "ipython",
    "version": 3
   },
   "file_extension": ".py",
   "mimetype": "text/x-python",
   "name": "python",
   "nbconvert_exporter": "python",
   "pygments_lexer": "ipython3",
   "version": "3.9.12"
  }
 },
 "nbformat": 4,
 "nbformat_minor": 5
}
